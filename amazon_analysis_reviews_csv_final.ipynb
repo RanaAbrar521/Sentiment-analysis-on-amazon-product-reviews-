{
 "cells": [
  {
   "cell_type": "markdown",
   "id": "bea7ceec-6949-4c7b-838f-bd97299b1c55",
   "metadata": {},
   "source": [
    "## Import All Required Libraries"
   ]
  },
  {
   "cell_type": "code",
   "execution_count": 45,
   "id": "f6c8811a-423e-4ee7-b7c0-f96cd2504d8d",
   "metadata": {},
   "outputs": [],
   "source": [
    "import pandas as pd\n",
    "import matplotlib.pyplot as plt\n",
    "import plotly.express as px\n",
    "import numpy as np\n",
    "import seaborn as sb\n",
    "from sklearn import metrics\n",
    "from nltk import classify\n",
    "from nltk import NaiveBayesClassifier\n",
    "from sklearn.model_selection import StratifiedShuffleSplit, GridSearchCV\n",
    "from sklearn.feature_extraction.text import CountVectorizer, TfidfTransformer\n",
    "from sklearn.naive_bayes import MultinomialNB\n",
    "from sklearn.pipeline import Pipeline\n",
    "from sklearn.linear_model import LogisticRegression\n",
    "from sklearn.tree import DecisionTreeClassifier\n",
    "from sklearn.svm import LinearSVC\n",
    "from sklearn.ensemble import RandomForestClassifier\n",
    "from sklearn.metrics import classification_report, accuracy_score\n",
    "import math\n",
    "import warnings\n",
    "warnings.filterwarnings('ignore')\n",
    "warnings.filterwarnings(\"ignore\", category=DeprecationWarning)\n",
    "warnings.filterwarnings(\"ignore\",category=UserWarning)\n",
    "sb.set_style(\"whitegrid\")\n",
    "get_ipython().run_line_magic('matplotlib', 'inline')"
   ]
  },
  {
   "cell_type": "markdown",
   "id": "d9d96216-fffd-4961-9831-af78d420bb01",
   "metadata": {},
   "source": [
    "# Reading Data File"
   ]
  },
  {
   "cell_type": "markdown",
   "id": "a137c2a1-1446-4642-b532-ac790cc16749",
   "metadata": {},
   "source": [
    ">Displaying Top 5 Records"
   ]
  },
  {
   "cell_type": "code",
   "execution_count": 46,
   "id": "5908cee9-b49d-4741-9294-07d8f3c44040",
   "metadata": {},
   "outputs": [
    {
     "name": "stdout",
     "output_type": "stream",
     "text": [
      "Number  of  Products  for  reviews : 74258\n",
      "Number of Unique users for reviews : 256059\n"
     ]
    },
    {
     "data": {
      "text/html": [
       "<div>\n",
       "<style scoped>\n",
       "    .dataframe tbody tr th:only-of-type {\n",
       "        vertical-align: middle;\n",
       "    }\n",
       "\n",
       "    .dataframe tbody tr th {\n",
       "        vertical-align: top;\n",
       "    }\n",
       "\n",
       "    .dataframe thead th {\n",
       "        text-align: right;\n",
       "    }\n",
       "</style>\n",
       "<table border=\"1\" class=\"dataframe\">\n",
       "  <thead>\n",
       "    <tr style=\"text-align: right;\">\n",
       "      <th></th>\n",
       "      <th>Id</th>\n",
       "      <th>ProductId</th>\n",
       "      <th>UserId</th>\n",
       "      <th>ProfileName</th>\n",
       "      <th>HelpfulnessNumerator</th>\n",
       "      <th>HelpfulnessDenominator</th>\n",
       "      <th>Score</th>\n",
       "      <th>Time</th>\n",
       "      <th>Summary</th>\n",
       "      <th>Text</th>\n",
       "    </tr>\n",
       "  </thead>\n",
       "  <tbody>\n",
       "    <tr>\n",
       "      <th>0</th>\n",
       "      <td>1</td>\n",
       "      <td>B001E4KFG0</td>\n",
       "      <td>A3SGXH7AUHU8GW</td>\n",
       "      <td>delmartian</td>\n",
       "      <td>1</td>\n",
       "      <td>1</td>\n",
       "      <td>5</td>\n",
       "      <td>1303862400</td>\n",
       "      <td>Good Quality Dog Food</td>\n",
       "      <td>I have bought several of the Vitality canned d...</td>\n",
       "    </tr>\n",
       "    <tr>\n",
       "      <th>1</th>\n",
       "      <td>2</td>\n",
       "      <td>B00813GRG4</td>\n",
       "      <td>A1D87F6ZCVE5NK</td>\n",
       "      <td>dll pa</td>\n",
       "      <td>0</td>\n",
       "      <td>0</td>\n",
       "      <td>1</td>\n",
       "      <td>1346976000</td>\n",
       "      <td>Not as Advertised</td>\n",
       "      <td>Product arrived labeled as Jumbo Salted Peanut...</td>\n",
       "    </tr>\n",
       "    <tr>\n",
       "      <th>2</th>\n",
       "      <td>3</td>\n",
       "      <td>B000LQOCH0</td>\n",
       "      <td>ABXLMWJIXXAIN</td>\n",
       "      <td>Natalia Corres \"Natalia Corres\"</td>\n",
       "      <td>1</td>\n",
       "      <td>1</td>\n",
       "      <td>4</td>\n",
       "      <td>1219017600</td>\n",
       "      <td>\"Delight\" says it all</td>\n",
       "      <td>This is a confection that has been around a fe...</td>\n",
       "    </tr>\n",
       "    <tr>\n",
       "      <th>3</th>\n",
       "      <td>4</td>\n",
       "      <td>B000UA0QIQ</td>\n",
       "      <td>A395BORC6FGVXV</td>\n",
       "      <td>Karl</td>\n",
       "      <td>3</td>\n",
       "      <td>3</td>\n",
       "      <td>2</td>\n",
       "      <td>1307923200</td>\n",
       "      <td>Cough Medicine</td>\n",
       "      <td>If you are looking for the secret ingredient i...</td>\n",
       "    </tr>\n",
       "    <tr>\n",
       "      <th>4</th>\n",
       "      <td>5</td>\n",
       "      <td>B006K2ZZ7K</td>\n",
       "      <td>A1UQRSCLF8GW1T</td>\n",
       "      <td>Michael D. Bigham \"M. Wassir\"</td>\n",
       "      <td>0</td>\n",
       "      <td>0</td>\n",
       "      <td>5</td>\n",
       "      <td>1350777600</td>\n",
       "      <td>Great taffy</td>\n",
       "      <td>Great taffy at a great price.  There was a wid...</td>\n",
       "    </tr>\n",
       "  </tbody>\n",
       "</table>\n",
       "</div>"
      ],
      "text/plain": [
       "   Id   ProductId          UserId                      ProfileName  \\\n",
       "0   1  B001E4KFG0  A3SGXH7AUHU8GW                       delmartian   \n",
       "1   2  B00813GRG4  A1D87F6ZCVE5NK                           dll pa   \n",
       "2   3  B000LQOCH0   ABXLMWJIXXAIN  Natalia Corres \"Natalia Corres\"   \n",
       "3   4  B000UA0QIQ  A395BORC6FGVXV                             Karl   \n",
       "4   5  B006K2ZZ7K  A1UQRSCLF8GW1T    Michael D. Bigham \"M. Wassir\"   \n",
       "\n",
       "   HelpfulnessNumerator  HelpfulnessDenominator  Score        Time  \\\n",
       "0                     1                       1      5  1303862400   \n",
       "1                     0                       0      1  1346976000   \n",
       "2                     1                       1      4  1219017600   \n",
       "3                     3                       3      2  1307923200   \n",
       "4                     0                       0      5  1350777600   \n",
       "\n",
       "                 Summary                                               Text  \n",
       "0  Good Quality Dog Food  I have bought several of the Vitality canned d...  \n",
       "1      Not as Advertised  Product arrived labeled as Jumbo Salted Peanut...  \n",
       "2  \"Delight\" says it all  This is a confection that has been around a fe...  \n",
       "3         Cough Medicine  If you are looking for the secret ingredient i...  \n",
       "4            Great taffy  Great taffy at a great price.  There was a wid...  "
      ]
     },
     "execution_count": 46,
     "metadata": {},
     "output_type": "execute_result"
    }
   ],
   "source": [
    "csv_file = \"E:\\Reviews.csv\"\n",
    "df = pd.read_csv(csv_file)\n",
    "print(\"Number  of  Products  for  reviews :\", len(df[\"ProductId\"].unique()))\n",
    "print(\"Number of Unique users for reviews :\", len(df[\"UserId\"].unique()))\n",
    "df.head()"
   ]
  },
  {
   "cell_type": "markdown",
   "id": "d05dc6b6-4803-417c-b1c9-b4308a1fdf62",
   "metadata": {},
   "source": [
    "### Selecting top 100k records for analysis"
   ]
  },
  {
   "cell_type": "markdown",
   "id": "0bfa90dc-1cba-498f-965a-947922ecb048",
   "metadata": {},
   "source": [
    ">So that we can reduce processing time to make it work for slow systems too. You can take all the 568k records if your system is efficient enough"
   ]
  },
  {
   "cell_type": "code",
   "execution_count": 47,
   "id": "18e39801-68c1-45f3-a641-5265ad188166",
   "metadata": {},
   "outputs": [
    {
     "name": "stdout",
     "output_type": "stream",
     "text": [
      "<class 'pandas.core.frame.DataFrame'>\n",
      "RangeIndex: 100000 entries, 0 to 99999\n",
      "Data columns (total 6 columns):\n",
      " #   Column     Non-Null Count   Dtype \n",
      "---  ------     --------------   ----- \n",
      " 0   Id         100000 non-null  int64 \n",
      " 1   ProductId  100000 non-null  object\n",
      " 2   UserId     100000 non-null  object\n",
      " 3   Score      100000 non-null  int64 \n",
      " 4   Summary    99998 non-null   object\n",
      " 5   Text       100000 non-null  object\n",
      "dtypes: int64(2), object(4)\n",
      "memory usage: 4.6+ MB\n"
     ]
    }
   ],
   "source": [
    "data = df[:100000].copy()\n",
    "data = data.drop([\"Time\", \"HelpfulnessNumerator\", \"HelpfulnessDenominator\", \"ProfileName\"], axis=1)\n",
    "data.info()"
   ]
  },
  {
   "cell_type": "code",
   "execution_count": 48,
   "id": "f0528572-5036-482a-ad99-762f6371e5b7",
   "metadata": {},
   "outputs": [
    {
     "data": {
      "text/html": [
       "<div>\n",
       "<style scoped>\n",
       "    .dataframe tbody tr th:only-of-type {\n",
       "        vertical-align: middle;\n",
       "    }\n",
       "\n",
       "    .dataframe tbody tr th {\n",
       "        vertical-align: top;\n",
       "    }\n",
       "\n",
       "    .dataframe thead th {\n",
       "        text-align: right;\n",
       "    }\n",
       "</style>\n",
       "<table border=\"1\" class=\"dataframe\">\n",
       "  <thead>\n",
       "    <tr style=\"text-align: right;\">\n",
       "      <th></th>\n",
       "      <th>Id</th>\n",
       "      <th>ProductId</th>\n",
       "      <th>UserId</th>\n",
       "      <th>Score</th>\n",
       "      <th>Summary</th>\n",
       "      <th>Text</th>\n",
       "    </tr>\n",
       "  </thead>\n",
       "  <tbody>\n",
       "    <tr>\n",
       "      <th>0</th>\n",
       "      <td>1</td>\n",
       "      <td>B001E4KFG0</td>\n",
       "      <td>A3SGXH7AUHU8GW</td>\n",
       "      <td>5</td>\n",
       "      <td>Good Quality Dog Food</td>\n",
       "      <td>I have bought several of the Vitality canned d...</td>\n",
       "    </tr>\n",
       "    <tr>\n",
       "      <th>1</th>\n",
       "      <td>2</td>\n",
       "      <td>B00813GRG4</td>\n",
       "      <td>A1D87F6ZCVE5NK</td>\n",
       "      <td>1</td>\n",
       "      <td>Not as Advertised</td>\n",
       "      <td>Product arrived labeled as Jumbo Salted Peanut...</td>\n",
       "    </tr>\n",
       "    <tr>\n",
       "      <th>2</th>\n",
       "      <td>3</td>\n",
       "      <td>B000LQOCH0</td>\n",
       "      <td>ABXLMWJIXXAIN</td>\n",
       "      <td>4</td>\n",
       "      <td>\"Delight\" says it all</td>\n",
       "      <td>This is a confection that has been around a fe...</td>\n",
       "    </tr>\n",
       "    <tr>\n",
       "      <th>3</th>\n",
       "      <td>4</td>\n",
       "      <td>B000UA0QIQ</td>\n",
       "      <td>A395BORC6FGVXV</td>\n",
       "      <td>2</td>\n",
       "      <td>Cough Medicine</td>\n",
       "      <td>If you are looking for the secret ingredient i...</td>\n",
       "    </tr>\n",
       "    <tr>\n",
       "      <th>4</th>\n",
       "      <td>5</td>\n",
       "      <td>B006K2ZZ7K</td>\n",
       "      <td>A1UQRSCLF8GW1T</td>\n",
       "      <td>5</td>\n",
       "      <td>Great taffy</td>\n",
       "      <td>Great taffy at a great price.  There was a wid...</td>\n",
       "    </tr>\n",
       "  </tbody>\n",
       "</table>\n",
       "</div>"
      ],
      "text/plain": [
       "   Id   ProductId          UserId  Score                Summary  \\\n",
       "0   1  B001E4KFG0  A3SGXH7AUHU8GW      5  Good Quality Dog Food   \n",
       "1   2  B00813GRG4  A1D87F6ZCVE5NK      1      Not as Advertised   \n",
       "2   3  B000LQOCH0   ABXLMWJIXXAIN      4  \"Delight\" says it all   \n",
       "3   4  B000UA0QIQ  A395BORC6FGVXV      2         Cough Medicine   \n",
       "4   5  B006K2ZZ7K  A1UQRSCLF8GW1T      5            Great taffy   \n",
       "\n",
       "                                                Text  \n",
       "0  I have bought several of the Vitality canned d...  \n",
       "1  Product arrived labeled as Jumbo Salted Peanut...  \n",
       "2  This is a confection that has been around a fe...  \n",
       "3  If you are looking for the secret ingredient i...  \n",
       "4  Great taffy at a great price.  There was a wid...  "
      ]
     },
     "execution_count": 48,
     "metadata": {},
     "output_type": "execute_result"
    }
   ],
   "source": [
    "data.head()"
   ]
  },
  {
   "cell_type": "markdown",
   "id": "1f502fa7-5e6f-48fc-9b45-48d15be4afb0",
   "metadata": {},
   "source": [
    "### Getting only unique Products"
   ]
  },
  {
   "cell_type": "code",
   "execution_count": 49,
   "id": "f752828c-1670-47b3-a5b2-e06cee2c1129",
   "metadata": {},
   "outputs": [
    {
     "name": "stdout",
     "output_type": "stream",
     "text": [
      "Number of Unique Product IDs: 12560\n",
      "Unique Products are :  ['B001E4KFG0' 'B00813GRG4' 'B000LQOCH0' ... 'B0028GY8U2' 'B000KGOTO2'\n",
      " 'B000LQORDE']\n"
     ]
    }
   ],
   "source": [
    "asins_unique = len(data[\"ProductId\"].unique())\n",
    "print(f\"Number of Unique Product IDs: {asins_unique}\")\n",
    "print(\"Unique Products are : \", data[\"ProductId\"].unique())"
   ]
  },
  {
   "cell_type": "markdown",
   "id": "a6b216e8-40a6-41cf-80c0-235edf949e74",
   "metadata": {},
   "source": [
    "# Ploting Score Graphs"
   ]
  },
  {
   "cell_type": "markdown",
   "id": "92c30193-f69f-4354-89bf-7b745931c0fb",
   "metadata": {},
   "source": [
    ">So that we will get the overview, without calculating number of each score"
   ]
  },
  {
   "cell_type": "markdown",
   "id": "4b005995-5539-400d-96a7-48c203d84f2a",
   "metadata": {},
   "source": [
    "## Histogram"
   ]
  },
  {
   "cell_type": "markdown",
   "id": "9241b9e8-851f-4596-ab2c-53cc8ee15715",
   "metadata": {},
   "source": [
    ">This graph is showing how many reviews get a specific score"
   ]
  },
  {
   "cell_type": "code",
   "execution_count": 50,
   "id": "dbf2a01c-6552-493b-8877-23d87c7cdd81",
   "metadata": {},
   "outputs": [
    {
     "data": {
      "image/png": "[encoded data removed]",
      "text/plain": [
       "<Figure size 864x432 with 1 Axes>"
      ]
     },
     "metadata": {
      "needs_background": "light"
     },
     "output_type": "display_data"
    }
   ],
   "source": [
    "x_axis_rating = data[\"Score\"]\n",
    "x_axis_rating.hist(bins=[0.5,1.5,2.5,3.5,4.5,5.5], figsize=(12,6), grid=True, color=\"#6f00ff\")\n",
    "\n",
    "plt.title(\"People-Rating Graph\")\n",
    "plt.xlabel(\"Rating\")\n",
    "plt.ylabel(\"Number of Ratings\")\n",
    "plt.show()"
   ]
  },
  {
   "cell_type": "markdown",
   "id": "88257cc7-1d7c-4f08-a637-d90c9887dbb8",
   "metadata": {},
   "source": [
    "## Box-Plot"
   ]
  },
  {
   "cell_type": "markdown",
   "id": "f8cd76ad-878f-4f8d-8925-df16740f5cfd",
   "metadata": {},
   "source": [
    ">Box-Plot gives the concentration data distribution"
   ]
  },
  {
   "cell_type": "code",
   "execution_count": 51,
   "id": "da5fcdf4-d15c-4150-999d-81625f418bb7",
   "metadata": {},
   "outputs": [
    {
     "data": {
      "image/png": "[encoded data removed]",
      "text/plain": [
       "<Figure size 432x288 with 1 Axes>"
      ]
     },
     "metadata": {
      "needs_background": "light"
     },
     "output_type": "display_data"
    }
   ],
   "source": [
    "sb.boxplot(x=\"Score\", data=data, whis=5, color=\"#00a2ff\");"
   ]
  },
  {
   "cell_type": "markdown",
   "id": "0d9284e6-fe99-4817-a2c7-c2045032135d",
   "metadata": {},
   "source": [
    "## Violin-Plot"
   ]
  },
  {
   "cell_type": "markdown",
   "id": "276da59b-8992-4301-8713-2b6bef8bb604",
   "metadata": {},
   "source": [
    ">Violin-Plot gives the frequency distribution of the data to visualize how the data is distributed and which points have more concentration of the data"
   ]
  },
  {
   "cell_type": "code",
   "execution_count": 52,
   "id": "6378bdb1-6aff-4ffe-b5b1-9cb271fa8403",
   "metadata": {},
   "outputs": [
    {
     "data": {
      "text/plain": [
       "<AxesSubplot:ylabel='Score'>"
      ]
     },
     "execution_count": 52,
     "metadata": {},
     "output_type": "execute_result"
    },
    {
     "data": {
      "image/png": "[encoded data removed]",
      "text/plain": [
       "<Figure size 432x288 with 1 Axes>"
      ]
     },
     "metadata": {
      "needs_background": "light"
     },
     "output_type": "display_data"
    }
   ],
   "source": [
    "sb.violinplot(y=\"Score\", data=data, bw=0.1, color=\"#bababa\")"
   ]
  },
  {
   "cell_type": "markdown",
   "id": "78cc7588-d2d8-4242-906a-8d8c2ac1641d",
   "metadata": {},
   "source": [
    "### Dropping null values"
   ]
  },
  {
   "cell_type": "markdown",
   "id": "72d0ae27-7384-4f2b-96b2-9bd9cf03a98a",
   "metadata": {},
   "source": [
    ">Our data does not have any null values, that's why it won't affect data"
   ]
  },
  {
   "cell_type": "code",
   "execution_count": 53,
   "id": "07b67f57-06ab-47a0-ad41-c4bfac0ed6c3",
   "metadata": {},
   "outputs": [
    {
     "name": "stdout",
     "output_type": "stream",
     "text": [
      "Before Removing Null Values: 100000\n",
      "After Removing Null Values: 100000\n"
     ]
    }
   ],
   "source": [
    "print(f\"Before Removing Null Values: {len(data)}\")\n",
    "dataAfter = data.dropna(subset=[\"Score\"])\n",
    "print(f\"After Removing Null Values: {len(dataAfter)}\")\n",
    "dataAfter[\"Score\"] = dataAfter[\"Score\"].astype(int)"
   ]
  },
  {
   "cell_type": "markdown",
   "id": "e583141d-6928-4b54-845e-923246a32dda",
   "metadata": {},
   "source": [
    "# Splitting data into TRAIN & TEST datasets"
   ]
  },
  {
   "cell_type": "markdown",
   "id": "387c5ddd-34a4-4bb6-91f0-af80c520a256",
   "metadata": {},
   "source": [
    ">Data is splitted up after shuffling"
   ]
  },
  {
   "cell_type": "code",
   "execution_count": 54,
   "id": "a27028e6-cd4f-429d-a0fd-424267e97330",
   "metadata": {},
   "outputs": [],
   "source": [
    "split = StratifiedShuffleSplit(n_splits=5, test_size=0.2)\n",
    "for train_index, test_index in split.split(dataAfter, dataAfter[\"Score\"]): \n",
    "    strat_train = dataAfter.reindex(train_index)\n",
    "    strat_test = dataAfter.reindex(test_index)"
   ]
  },
  {
   "cell_type": "markdown",
   "id": "632f094f-6ae1-4cbf-bc82-4dc012b918e2",
   "metadata": {},
   "source": [
    ">Checking length of the Train dataset and the percentage of each score"
   ]
  },
  {
   "cell_type": "code",
   "execution_count": 55,
   "id": "b1bd2092-fe0f-4667-8943-1834ef51f225",
   "metadata": {},
   "outputs": [
    {
     "data": {
      "text/plain": [
       "80000"
      ]
     },
     "execution_count": 55,
     "metadata": {},
     "output_type": "execute_result"
    }
   ],
   "source": [
    "len(strat_train)"
   ]
  },
  {
   "cell_type": "code",
   "execution_count": 56,
   "id": "630a8017-0789-4721-8fa9-41c74926d512",
   "metadata": {},
   "outputs": [
    {
     "data": {
      "text/plain": [
       "5    0.624125\n",
       "4    0.146437\n",
       "1    0.093175\n",
       "3    0.080588\n",
       "2    0.055675\n",
       "Name: Score, dtype: float64"
      ]
     },
     "execution_count": 56,
     "metadata": {},
     "output_type": "execute_result"
    }
   ],
   "source": [
    "strat_train[\"Score\"].value_counts()/len(strat_train)"
   ]
  },
  {
   "cell_type": "markdown",
   "id": "50f268e7-0f33-47c3-b68b-0a27af4b8a10",
   "metadata": {},
   "source": [
    ">Checking length of the Test dataset and the percentage of each score"
   ]
  },
  {
   "cell_type": "code",
   "execution_count": 57,
   "id": "da5623e1-76d9-491e-9ea9-c12c4515fb71",
   "metadata": {},
   "outputs": [
    {
     "data": {
      "text/plain": [
       "20000"
      ]
     },
     "execution_count": 57,
     "metadata": {},
     "output_type": "execute_result"
    }
   ],
   "source": [
    "len(strat_test)"
   ]
  },
  {
   "cell_type": "code",
   "execution_count": 58,
   "id": "26d06e85-932a-415b-b54a-a658349bdee1",
   "metadata": {},
   "outputs": [
    {
     "data": {
      "text/plain": [
       "5    0.6241\n",
       "4    0.1464\n",
       "1    0.0932\n",
       "3    0.0806\n",
       "2    0.0557\n",
       "Name: Score, dtype: float64"
      ]
     },
     "execution_count": 58,
     "metadata": {},
     "output_type": "execute_result"
    }
   ],
   "source": [
    "strat_test[\"Score\"].value_counts()/len(strat_test)"
   ]
  },
  {
   "cell_type": "markdown",
   "id": "7ac3fe57-8069-4279-b663-df8fc5cae255",
   "metadata": {},
   "source": [
    "## Using Shuffled Train Dataset"
   ]
  },
  {
   "cell_type": "markdown",
   "id": "f8aa6c1f-abfa-41d2-9e04-ddf69f822e5b",
   "metadata": {},
   "source": [
    ">Checking the Top 5 Records"
   ]
  },
  {
   "cell_type": "code",
   "execution_count": 59,
   "id": "44ce10df-a3e9-44ca-8d2f-eb7a606929e0",
   "metadata": {},
   "outputs": [
    {
     "data": {
      "text/html": [
       "<div>\n",
       "<style scoped>\n",
       "    .dataframe tbody tr th:only-of-type {\n",
       "        vertical-align: middle;\n",
       "    }\n",
       "\n",
       "    .dataframe tbody tr th {\n",
       "        vertical-align: top;\n",
       "    }\n",
       "\n",
       "    .dataframe thead th {\n",
       "        text-align: right;\n",
       "    }\n",
       "</style>\n",
       "<table border=\"1\" class=\"dataframe\">\n",
       "  <thead>\n",
       "    <tr style=\"text-align: right;\">\n",
       "      <th></th>\n",
       "      <th>Id</th>\n",
       "      <th>ProductId</th>\n",
       "      <th>UserId</th>\n",
       "      <th>Score</th>\n",
       "      <th>Summary</th>\n",
       "      <th>Text</th>\n",
       "    </tr>\n",
       "  </thead>\n",
       "  <tbody>\n",
       "    <tr>\n",
       "      <th>45344</th>\n",
       "      <td>45345</td>\n",
       "      <td>B003GHESE8</td>\n",
       "      <td>AQ52JX9ES6XYY</td>\n",
       "      <td>5</td>\n",
       "      <td>convenience packs ROCK!  :)</td>\n",
       "      <td>These Walker's Shortbread Fingers in single se...</td>\n",
       "    </tr>\n",
       "    <tr>\n",
       "      <th>72377</th>\n",
       "      <td>72378</td>\n",
       "      <td>B001E6K6GW</td>\n",
       "      <td>AE6KNBCR1YCNB</td>\n",
       "      <td>5</td>\n",
       "      <td>Love these nut bars!</td>\n",
       "      <td>These are some of my favorite nut bars, and ar...</td>\n",
       "    </tr>\n",
       "    <tr>\n",
       "      <th>15490</th>\n",
       "      <td>15491</td>\n",
       "      <td>B000255OIG</td>\n",
       "      <td>A2G1LRD120SJPC</td>\n",
       "      <td>5</td>\n",
       "      <td>Excellent Product and Made in U.S.A.</td>\n",
       "      <td>My three very finicky dogs love this product, ...</td>\n",
       "    </tr>\n",
       "    <tr>\n",
       "      <th>55038</th>\n",
       "      <td>55039</td>\n",
       "      <td>B000IHJEDE</td>\n",
       "      <td>A1833SGGG68N4N</td>\n",
       "      <td>5</td>\n",
       "      <td>There are a great gluten free snack!</td>\n",
       "      <td>My daughter does not always want to eat the \"s...</td>\n",
       "    </tr>\n",
       "    <tr>\n",
       "      <th>15508</th>\n",
       "      <td>15509</td>\n",
       "      <td>B000255OIG</td>\n",
       "      <td>A3G8C334EDZPP7</td>\n",
       "      <td>5</td>\n",
       "      <td>Great for Diabetic Dog</td>\n",
       "      <td>These Dried Dog Treats are great.  My dog was ...</td>\n",
       "    </tr>\n",
       "  </tbody>\n",
       "</table>\n",
       "</div>"
      ],
      "text/plain": [
       "          Id   ProductId          UserId  Score  \\\n",
       "45344  45345  B003GHESE8   AQ52JX9ES6XYY      5   \n",
       "72377  72378  B001E6K6GW   AE6KNBCR1YCNB      5   \n",
       "15490  15491  B000255OIG  A2G1LRD120SJPC      5   \n",
       "55038  55039  B000IHJEDE  A1833SGGG68N4N      5   \n",
       "15508  15509  B000255OIG  A3G8C334EDZPP7      5   \n",
       "\n",
       "                                    Summary  \\\n",
       "45344           convenience packs ROCK!  :)   \n",
       "72377                  Love these nut bars!   \n",
       "15490  Excellent Product and Made in U.S.A.   \n",
       "55038  There are a great gluten free snack!   \n",
       "15508                Great for Diabetic Dog   \n",
       "\n",
       "                                                    Text  \n",
       "45344  These Walker's Shortbread Fingers in single se...  \n",
       "72377  These are some of my favorite nut bars, and ar...  \n",
       "15490  My three very finicky dogs love this product, ...  \n",
       "55038  My daughter does not always want to eat the \"s...  \n",
       "15508  These Dried Dog Treats are great.  My dog was ...  "
      ]
     },
     "execution_count": 59,
     "metadata": {},
     "output_type": "execute_result"
    }
   ],
   "source": [
    "reviews = strat_train.copy()\n",
    "reviews.head()"
   ]
  },
  {
   "cell_type": "markdown",
   "id": "447ee787-017e-4a9a-8e45-117a8ce80ca0",
   "metadata": {},
   "source": [
    ">Finding Number of Unique Products"
   ]
  },
  {
   "cell_type": "code",
   "execution_count": 60,
   "id": "900c796a-f7f6-4b47-8c20-59a60fa8df04",
   "metadata": {},
   "outputs": [
    {
     "name": "stdout",
     "output_type": "stream",
     "text": [
      "Number of unique Product IDs in Trained Data Reviews: 11472\n"
     ]
    }
   ],
   "source": [
    "unique_pro_ids = len(reviews[\"ProductId\"].unique())\n",
    "print(f\"Number of unique Product IDs in Trained Data Reviews: {unique_pro_ids}\")"
   ]
  },
  {
   "cell_type": "markdown",
   "id": "e893395f-e53f-44af-a239-3d7610f05415",
   "metadata": {},
   "source": [
    ">Checking basic info of the Data Frame before further processing"
   ]
  },
  {
   "cell_type": "code",
   "execution_count": 61,
   "id": "20b453b2-a934-4dc4-9539-8bbd9fa65d99",
   "metadata": {},
   "outputs": [
    {
     "name": "stdout",
     "output_type": "stream",
     "text": [
      "<class 'pandas.core.frame.DataFrame'>\n",
      "Int64Index: 80000 entries, 45344 to 145\n",
      "Data columns (total 6 columns):\n",
      " #   Column     Non-Null Count  Dtype \n",
      "---  ------     --------------  ----- \n",
      " 0   Id         80000 non-null  int64 \n",
      " 1   ProductId  80000 non-null  object\n",
      " 2   UserId     80000 non-null  object\n",
      " 3   Score      80000 non-null  int32 \n",
      " 4   Summary    80000 non-null  object\n",
      " 5   Text       80000 non-null  object\n",
      "dtypes: int32(1), int64(1), object(4)\n",
      "memory usage: 4.0+ MB\n"
     ]
    }
   ],
   "source": [
    "reviews.info()"
   ]
  },
  {
   "cell_type": "markdown",
   "id": "390278fe-346a-4de4-94a7-364d7f71809f",
   "metadata": {},
   "source": [
    ">Finding Mean of all the ratings of train dataset"
   ]
  },
  {
   "cell_type": "code",
   "execution_count": 62,
   "id": "5f60d60c-a36c-46ea-8325-68e6067aadb8",
   "metadata": {},
   "outputs": [
    {
     "data": {
      "text/plain": [
       "4.1526625"
      ]
     },
     "execution_count": 62,
     "metadata": {},
     "output_type": "execute_result"
    }
   ],
   "source": [
    "reviews[\"Score\"].mean()"
   ]
  },
  {
   "cell_type": "markdown",
   "id": "8adab4b0-f961-49a1-b99c-5867999bc911",
   "metadata": {},
   "source": [
    ">Counting Number of reviews of each Product from the Train dataset"
   ]
  },
  {
   "cell_type": "code",
   "execution_count": 63,
   "id": "d58fcf71-8397-43a0-9edb-30c2f56b04ab",
   "metadata": {},
   "outputs": [
    {
     "data": {
      "text/html": [
       "<div>\n",
       "<style scoped>\n",
       "    .dataframe tbody tr th:only-of-type {\n",
       "        vertical-align: middle;\n",
       "    }\n",
       "\n",
       "    .dataframe tbody tr th {\n",
       "        vertical-align: top;\n",
       "    }\n",
       "\n",
       "    .dataframe thead th {\n",
       "        text-align: right;\n",
       "    }\n",
       "</style>\n",
       "<table border=\"1\" class=\"dataframe\">\n",
       "  <thead>\n",
       "    <tr style=\"text-align: right;\">\n",
       "      <th></th>\n",
       "      <th>ProductId</th>\n",
       "    </tr>\n",
       "  </thead>\n",
       "  <tbody>\n",
       "    <tr>\n",
       "      <th>B002QWP89S</th>\n",
       "      <td>519</td>\n",
       "    </tr>\n",
       "    <tr>\n",
       "      <th>B0026RQTGE</th>\n",
       "      <td>504</td>\n",
       "    </tr>\n",
       "    <tr>\n",
       "      <th>B0013NUGDE</th>\n",
       "      <td>446</td>\n",
       "    </tr>\n",
       "    <tr>\n",
       "      <th>B000KV61FC</th>\n",
       "      <td>444</td>\n",
       "    </tr>\n",
       "    <tr>\n",
       "      <th>B007M83302</th>\n",
       "      <td>430</td>\n",
       "    </tr>\n",
       "    <tr>\n",
       "      <th>B005ZBZLT4</th>\n",
       "      <td>410</td>\n",
       "    </tr>\n",
       "    <tr>\n",
       "      <th>B000PDY3P0</th>\n",
       "      <td>400</td>\n",
       "    </tr>\n",
       "    <tr>\n",
       "      <th>B002IEZJMA</th>\n",
       "      <td>386</td>\n",
       "    </tr>\n",
       "    <tr>\n",
       "      <th>B002LANN56</th>\n",
       "      <td>383</td>\n",
       "    </tr>\n",
       "    <tr>\n",
       "      <th>B004SRH2B6</th>\n",
       "      <td>367</td>\n",
       "    </tr>\n",
       "  </tbody>\n",
       "</table>\n",
       "</div>"
      ],
      "text/plain": [
       "            ProductId\n",
       "B002QWP89S        519\n",
       "B0026RQTGE        504\n",
       "B0013NUGDE        446\n",
       "B000KV61FC        444\n",
       "B007M83302        430\n",
       "B005ZBZLT4        410\n",
       "B000PDY3P0        400\n",
       "B002IEZJMA        386\n",
       "B002LANN56        383\n",
       "B004SRH2B6        367"
      ]
     },
     "execution_count": 63,
     "metadata": {},
     "output_type": "execute_result"
    }
   ],
   "source": [
    "counts = reviews[\"ProductId\"].value_counts().to_frame()\n",
    "counts.head(10)"
   ]
  },
  {
   "cell_type": "markdown",
   "id": "6b48aab5-7935-4bbe-b5b7-8c9399e1fe25",
   "metadata": {},
   "source": [
    ">Calculating the Mean rating score of each Product in the Train Dataset"
   ]
  },
  {
   "cell_type": "code",
   "execution_count": 64,
   "id": "daa50ded-4b8c-4574-afff-537a485edcd8",
   "metadata": {},
   "outputs": [
    {
     "data": {
      "text/html": [
       "<div>\n",
       "<style scoped>\n",
       "    .dataframe tbody tr th:only-of-type {\n",
       "        vertical-align: middle;\n",
       "    }\n",
       "\n",
       "    .dataframe tbody tr th {\n",
       "        vertical-align: top;\n",
       "    }\n",
       "\n",
       "    .dataframe thead th {\n",
       "        text-align: right;\n",
       "    }\n",
       "</style>\n",
       "<table border=\"1\" class=\"dataframe\">\n",
       "  <thead>\n",
       "    <tr style=\"text-align: right;\">\n",
       "      <th></th>\n",
       "      <th>Score</th>\n",
       "    </tr>\n",
       "    <tr>\n",
       "      <th>ProductId</th>\n",
       "      <th></th>\n",
       "    </tr>\n",
       "  </thead>\n",
       "  <tbody>\n",
       "    <tr>\n",
       "      <th>2734888454</th>\n",
       "      <td>3.500000</td>\n",
       "    </tr>\n",
       "    <tr>\n",
       "      <th>B00002N8SM</th>\n",
       "      <td>1.812500</td>\n",
       "    </tr>\n",
       "    <tr>\n",
       "      <th>B00002NCJC</th>\n",
       "      <td>4.500000</td>\n",
       "    </tr>\n",
       "    <tr>\n",
       "      <th>B00002Z754</th>\n",
       "      <td>5.000000</td>\n",
       "    </tr>\n",
       "    <tr>\n",
       "      <th>B00005V3DC</th>\n",
       "      <td>5.000000</td>\n",
       "    </tr>\n",
       "    <tr>\n",
       "      <th>B00006IDJO</th>\n",
       "      <td>1.000000</td>\n",
       "    </tr>\n",
       "    <tr>\n",
       "      <th>B00006IDJU</th>\n",
       "      <td>5.000000</td>\n",
       "    </tr>\n",
       "    <tr>\n",
       "      <th>B000084DVR</th>\n",
       "      <td>5.000000</td>\n",
       "    </tr>\n",
       "    <tr>\n",
       "      <th>B000084E1U</th>\n",
       "      <td>5.000000</td>\n",
       "    </tr>\n",
       "    <tr>\n",
       "      <th>B000084E6V</th>\n",
       "      <td>4.114865</td>\n",
       "    </tr>\n",
       "  </tbody>\n",
       "</table>\n",
       "</div>"
      ],
      "text/plain": [
       "               Score\n",
       "ProductId           \n",
       "2734888454  3.500000\n",
       "B00002N8SM  1.812500\n",
       "B00002NCJC  4.500000\n",
       "B00002Z754  5.000000\n",
       "B00005V3DC  5.000000\n",
       "B00006IDJO  1.000000\n",
       "B00006IDJU  5.000000\n",
       "B000084DVR  5.000000\n",
       "B000084E1U  5.000000\n",
       "B000084E6V  4.114865"
      ]
     },
     "execution_count": 64,
     "metadata": {},
     "output_type": "execute_result"
    }
   ],
   "source": [
    "avg_rating = reviews.groupby(\"ProductId\")[\"Score\"].mean().to_frame()\n",
    "avg_rating.head(10)"
   ]
  },
  {
   "cell_type": "markdown",
   "id": "99775c06-ad4c-4408-b896-c2b363772024",
   "metadata": {},
   "source": [
    ">Grouping the Product count and the Mean rating of each product in Train Dataset to form a Table"
   ]
  },
  {
   "cell_type": "code",
   "execution_count": 65,
   "id": "92773b0a-4642-4dca-b376-7ce7282baab7",
   "metadata": {},
   "outputs": [
    {
     "data": {
      "text/html": [
       "<div>\n",
       "<style scoped>\n",
       "    .dataframe tbody tr th:only-of-type {\n",
       "        vertical-align: middle;\n",
       "    }\n",
       "\n",
       "    .dataframe tbody tr th {\n",
       "        vertical-align: top;\n",
       "    }\n",
       "\n",
       "    .dataframe thead th {\n",
       "        text-align: right;\n",
       "    }\n",
       "</style>\n",
       "<table border=\"1\" class=\"dataframe\">\n",
       "  <thead>\n",
       "    <tr style=\"text-align: right;\">\n",
       "      <th></th>\n",
       "      <th>ProductId</th>\n",
       "      <th>Score</th>\n",
       "    </tr>\n",
       "  </thead>\n",
       "  <tbody>\n",
       "    <tr>\n",
       "      <th>B002QWP89S</th>\n",
       "      <td>519</td>\n",
       "      <td>4.554913</td>\n",
       "    </tr>\n",
       "    <tr>\n",
       "      <th>B0026RQTGE</th>\n",
       "      <td>504</td>\n",
       "      <td>4.603175</td>\n",
       "    </tr>\n",
       "    <tr>\n",
       "      <th>B0013NUGDE</th>\n",
       "      <td>446</td>\n",
       "      <td>4.298206</td>\n",
       "    </tr>\n",
       "    <tr>\n",
       "      <th>B000KV61FC</th>\n",
       "      <td>444</td>\n",
       "      <td>3.423423</td>\n",
       "    </tr>\n",
       "    <tr>\n",
       "      <th>B007M83302</th>\n",
       "      <td>430</td>\n",
       "      <td>4.304651</td>\n",
       "    </tr>\n",
       "    <tr>\n",
       "      <th>B005ZBZLT4</th>\n",
       "      <td>410</td>\n",
       "      <td>4.356098</td>\n",
       "    </tr>\n",
       "    <tr>\n",
       "      <th>B000PDY3P0</th>\n",
       "      <td>400</td>\n",
       "      <td>4.332500</td>\n",
       "    </tr>\n",
       "    <tr>\n",
       "      <th>B002IEZJMA</th>\n",
       "      <td>386</td>\n",
       "      <td>3.603627</td>\n",
       "    </tr>\n",
       "    <tr>\n",
       "      <th>B002LANN56</th>\n",
       "      <td>383</td>\n",
       "      <td>3.767624</td>\n",
       "    </tr>\n",
       "    <tr>\n",
       "      <th>B004SRH2B6</th>\n",
       "      <td>367</td>\n",
       "      <td>3.662125</td>\n",
       "    </tr>\n",
       "    <tr>\n",
       "      <th>B006N3IG4K</th>\n",
       "      <td>352</td>\n",
       "      <td>3.943182</td>\n",
       "    </tr>\n",
       "    <tr>\n",
       "      <th>B0041NYV8E</th>\n",
       "      <td>351</td>\n",
       "      <td>3.128205</td>\n",
       "    </tr>\n",
       "    <tr>\n",
       "      <th>B003VXFK44</th>\n",
       "      <td>345</td>\n",
       "      <td>3.973913</td>\n",
       "    </tr>\n",
       "    <tr>\n",
       "      <th>B0007A0AQW</th>\n",
       "      <td>344</td>\n",
       "      <td>4.563953</td>\n",
       "    </tr>\n",
       "    <tr>\n",
       "      <th>B004GW6O9E</th>\n",
       "      <td>317</td>\n",
       "      <td>4.400631</td>\n",
       "    </tr>\n",
       "    <tr>\n",
       "      <th>B003TNANSO</th>\n",
       "      <td>305</td>\n",
       "      <td>4.367213</td>\n",
       "    </tr>\n",
       "    <tr>\n",
       "      <th>B003QNJYXM</th>\n",
       "      <td>304</td>\n",
       "      <td>4.194079</td>\n",
       "    </tr>\n",
       "    <tr>\n",
       "      <th>B0018KR8V0</th>\n",
       "      <td>304</td>\n",
       "      <td>4.421053</td>\n",
       "    </tr>\n",
       "    <tr>\n",
       "      <th>B001LG945O</th>\n",
       "      <td>289</td>\n",
       "      <td>3.470588</td>\n",
       "    </tr>\n",
       "    <tr>\n",
       "      <th>B007I7Z3Z0</th>\n",
       "      <td>286</td>\n",
       "      <td>3.720280</td>\n",
       "    </tr>\n",
       "    <tr>\n",
       "      <th>B001LG940E</th>\n",
       "      <td>280</td>\n",
       "      <td>3.710714</td>\n",
       "    </tr>\n",
       "    <tr>\n",
       "      <th>B001LGGH40</th>\n",
       "      <td>273</td>\n",
       "      <td>3.582418</td>\n",
       "    </tr>\n",
       "    <tr>\n",
       "      <th>B000EVOSE4</th>\n",
       "      <td>262</td>\n",
       "      <td>4.347328</td>\n",
       "    </tr>\n",
       "    <tr>\n",
       "      <th>B004ZIER34</th>\n",
       "      <td>261</td>\n",
       "      <td>3.482759</td>\n",
       "    </tr>\n",
       "    <tr>\n",
       "      <th>B005K4Q1VI</th>\n",
       "      <td>259</td>\n",
       "      <td>4.003861</td>\n",
       "    </tr>\n",
       "    <tr>\n",
       "      <th>B004CLCEDE</th>\n",
       "      <td>259</td>\n",
       "      <td>3.505792</td>\n",
       "    </tr>\n",
       "    <tr>\n",
       "      <th>B001RVFDOO</th>\n",
       "      <td>255</td>\n",
       "      <td>4.427451</td>\n",
       "    </tr>\n",
       "    <tr>\n",
       "      <th>B006H34CUS</th>\n",
       "      <td>252</td>\n",
       "      <td>4.420635</td>\n",
       "    </tr>\n",
       "    <tr>\n",
       "      <th>B002GJ9JWS</th>\n",
       "      <td>246</td>\n",
       "      <td>4.455285</td>\n",
       "    </tr>\n",
       "    <tr>\n",
       "      <th>B008ZRKZSM</th>\n",
       "      <td>245</td>\n",
       "      <td>4.497959</td>\n",
       "    </tr>\n",
       "  </tbody>\n",
       "</table>\n",
       "</div>"
      ],
      "text/plain": [
       "            ProductId     Score\n",
       "B002QWP89S        519  4.554913\n",
       "B0026RQTGE        504  4.603175\n",
       "B0013NUGDE        446  4.298206\n",
       "B000KV61FC        444  3.423423\n",
       "B007M83302        430  4.304651\n",
       "B005ZBZLT4        410  4.356098\n",
       "B000PDY3P0        400  4.332500\n",
       "B002IEZJMA        386  3.603627\n",
       "B002LANN56        383  3.767624\n",
       "B004SRH2B6        367  3.662125\n",
       "B006N3IG4K        352  3.943182\n",
       "B0041NYV8E        351  3.128205\n",
       "B003VXFK44        345  3.973913\n",
       "B0007A0AQW        344  4.563953\n",
       "B004GW6O9E        317  4.400631\n",
       "B003TNANSO        305  4.367213\n",
       "B003QNJYXM        304  4.194079\n",
       "B0018KR8V0        304  4.421053\n",
       "B001LG945O        289  3.470588\n",
       "B007I7Z3Z0        286  3.720280\n",
       "B001LG940E        280  3.710714\n",
       "B001LGGH40        273  3.582418\n",
       "B000EVOSE4        262  4.347328\n",
       "B004ZIER34        261  3.482759\n",
       "B005K4Q1VI        259  4.003861\n",
       "B004CLCEDE        259  3.505792\n",
       "B001RVFDOO        255  4.427451\n",
       "B006H34CUS        252  4.420635\n",
       "B002GJ9JWS        246  4.455285\n",
       "B008ZRKZSM        245  4.497959"
      ]
     },
     "execution_count": 65,
     "metadata": {},
     "output_type": "execute_result"
    }
   ],
   "source": [
    "table = counts.join(avg_rating)\n",
    "table.head(30)"
   ]
  },
  {
   "cell_type": "markdown",
   "id": "783e5a47-4773-4a71-8cb7-970ac7a129dc",
   "metadata": {},
   "source": [
    "## Scatter Plot"
   ]
  },
  {
   "cell_type": "markdown",
   "id": "ab2197a9-d330-44eb-a23c-238c98081da6",
   "metadata": {},
   "source": [
    ">Scatter plots are used to observe relationships between variables. The dots in a scatter plot not only report the values of individual data points, but also patterns when the data are taken as a whole. Here, we can conclude that the number of times a product being purchased is affecting it's rating either in a good or a bad way. "
   ]
  },
  {
   "cell_type": "code",
   "execution_count": 66,
   "id": "9e5f0ce4-067b-4039-a94a-e38de5eb465d",
   "metadata": {},
   "outputs": [
    {
     "data": {
      "image/png": "[encoded data removed]",
      "text/plain": [
       "<Figure size 432x288 with 1 Axes>"
      ]
     },
     "metadata": {
      "needs_background": "light"
     },
     "output_type": "display_data"
    }
   ],
   "source": [
    "plt.scatter(\"ProductId\", \"Score\", data=table);"
   ]
  },
  {
   "cell_type": "markdown",
   "id": "37e2bf7c-2886-47b9-a7d7-1e3aad4c74d8",
   "metadata": {},
   "source": [
    "### Classifying the review on the basis of rating"
   ]
  },
  {
   "cell_type": "code",
   "execution_count": 67,
   "id": "0caf6c2a-e3be-47e7-9b32-0fb7595d2803",
   "metadata": {},
   "outputs": [
    {
     "data": {
      "text/plain": [
       "45344    Positive\n",
       "72377    Positive\n",
       "15490    Positive\n",
       "55038    Positive\n",
       "15508    Positive\n",
       "12925     Neutral\n",
       "61204    Negative\n",
       "12452    Negative\n",
       "55631    Positive\n",
       "70478    Positive\n",
       "Name: Sentiment, dtype: object"
      ]
     },
     "execution_count": 67,
     "metadata": {},
     "output_type": "execute_result"
    }
   ],
   "source": [
    "def sentiments(rating):\n",
    "    if (rating == 5) or (rating == 4):\n",
    "        return \"Positive\"\n",
    "    elif rating == 3:\n",
    "        return \"Neutral\"\n",
    "    elif (rating == 2) or (rating == 1):\n",
    "        return \"Negative\"\n",
    "\n",
    "strat_train[\"Sentiment\"] = strat_train[\"Score\"].apply(sentiments)\n",
    "strat_test[\"Sentiment\"] = strat_test[\"Score\"].apply(sentiments)\n",
    "strat_train[\"Sentiment\"][:10]"
   ]
  },
  {
   "cell_type": "markdown",
   "id": "00eb819a-064e-4a78-81bd-44587c384285",
   "metadata": {},
   "source": [
    "## Calculating Algos' Metrics"
   ]
  },
  {
   "cell_type": "markdown",
   "id": "c27861c5-e910-4001-b020-1f5a8bdba227",
   "metadata": {},
   "source": [
    "#### Calculating Precision, Recall and F-Score of the Algorithm using TP,TN,FP,FN"
   ]
  },
  {
   "cell_type": "code",
   "execution_count": 68,
   "id": "422a28ea-2b61-4738-b2ff-ecbc4c4e42b2",
   "metadata": {},
   "outputs": [],
   "source": [
    "# Calculating other metrics\n",
    "\n",
    "def calculate_precision(conf_mat):\n",
    "    return (conf_mat[2][2]) / (conf_mat[2][2] + conf_mat[2][0])\n",
    "\n",
    "\n",
    "def calculate_recall(conf_mat):\n",
    "    return (conf_mat[2][2]) / (conf_mat[2][2] + conf_mat[0][2])\n",
    "\n",
    "\n",
    "def calculate_f_score(algo_precision, algo_recall):\n",
    "    return (2*(algo_precision * algo_recall)) / (algo_precision + algo_recall)"
   ]
  },
  {
   "cell_type": "markdown",
   "id": "b2696a3d-6788-4403-b201-448f113be166",
   "metadata": {},
   "source": [
    "## Pre-Processing Data"
   ]
  },
  {
   "cell_type": "markdown",
   "id": "55e1f986-0039-4edb-801b-0ba051ba4abc",
   "metadata": {},
   "source": [
    ">Checking Number of Samples"
   ]
  },
  {
   "cell_type": "code",
   "execution_count": 69,
   "id": "e97899a9-2a12-4c6b-a513-84590f4a7855",
   "metadata": {},
   "outputs": [
    {
     "name": "stdout",
     "output_type": "stream",
     "text": [
      "Number of Training Samples: 80000\n",
      "Number of Test Data Samples: 20000\n"
     ]
    }
   ],
   "source": [
    "X_train = strat_train[\"Text\"]\n",
    "X_train_targetSentiment = strat_train[\"Sentiment\"]\n",
    "X_test = strat_test[\"Text\"]\n",
    "X_test_targetSentiment = strat_test[\"Sentiment\"]\n",
    "print(f\"Number of Training Samples: {len(X_train)}\")\n",
    "print(f\"Number of Test Data Samples: {len(X_test)}\")"
   ]
  },
  {
   "cell_type": "markdown",
   "id": "065480bb-c223-47cc-a1d5-f4fe60a3e969",
   "metadata": {},
   "source": [
    "> 1 - Filling NA's with EMPTY STRING <br> 2 - Transforming data to Count Vectors - The CountVectorizer provides a simple way to both tokenize a collection of text documents and build a vocabulary of known words <br> 3 - Getting Number of  Samples and the Distinct Words"
   ]
  },
  {
   "cell_type": "code",
   "execution_count": 70,
   "id": "a6eeda34-9219-4a03-b7ac-cb670e538d58",
   "metadata": {},
   "outputs": [
    {
     "name": "stdout",
     "output_type": "stream",
     "text": [
      "Number of Training Samples: 80000\n",
      "Number of Distinct Words: 51032\n"
     ]
    }
   ],
   "source": [
    "X_train = X_train.fillna(' ')\n",
    "X_test = X_test.fillna(' ')\n",
    "X_train_targetSentiment = X_train_targetSentiment.fillna(' ')\n",
    "X_test_targetSentiment = X_test_targetSentiment.fillna(' ')\n",
    "\n",
    "count_vect = CountVectorizer()\n",
    "X_train_counts = count_vect.fit_transform(X_train)\n",
    "X_train_counts.shape\n",
    "print(f\"Number of Training Samples: {X_train_counts.shape[0]}\")\n",
    "print(f\"Number of Distinct Words: {X_train_counts.shape[1]}\")"
   ]
  },
  {
   "cell_type": "markdown",
   "id": "3334303a-e07d-4734-8489-8cd957e7d3ef",
   "metadata": {},
   "source": [
    "### DF-IDF Transformation"
   ]
  },
  {
   "cell_type": "markdown",
   "id": "b9fd06c7-7ec8-4f27-8c55-887515e42591",
   "metadata": {},
   "source": [
    ">1 - Stop Word Removal <br> 2 - PoS tagging <br> 3 - We have already tokenize data using CountVectorizer. By using Stop word removal, POS tagging etc. we may not analyse the data correctly because some of the important words that distinguish the class of data get removed. That's why we are using TF-IDF transformation that will automatically assign less weight to unimportant words and the important words or the class distinguishers won't get removed.  Moreover, visit https://www.freecodecamp.org/news/how-to-process-textual-data-using-tf-idf-in-python-cd2bbc0a94a3/ for detailed explanation"
   ]
  },
  {
   "cell_type": "code",
   "execution_count": 71,
   "id": "683b91cd-35e4-4d72-ad76-55429f12c574",
   "metadata": {},
   "outputs": [
    {
     "name": "stdout",
     "output_type": "stream",
     "text": [
      "Number of Training Samples: 80000\n",
      "Number of Distinct Words: 51032\n"
     ]
    }
   ],
   "source": [
    "tfidf_transformer = TfidfTransformer(use_idf=False)\n",
    "X_train_tfidf = tfidf_transformer.fit_transform(X_train_counts)\n",
    "X_train_tfidf.shape\n",
    "print(f\"Number of Training Samples: {X_train_tfidf.shape[0]}\")\n",
    "print(f\"Number of Distinct Words: {X_train_tfidf.shape[1]}\")"
   ]
  },
  {
   "cell_type": "markdown",
   "id": "cd88188a-dead-41a7-b507-e9e65f37af55",
   "metadata": {},
   "source": [
    "# Applying Classification Algorithms"
   ]
  },
  {
   "cell_type": "markdown",
   "id": "7615dc5e-5a59-4922-bf07-9286003e2b3f",
   "metadata": {},
   "source": [
    "## Multinominal Niave Bayes"
   ]
  },
  {
   "cell_type": "markdown",
   "id": "def6c256-165f-4cb3-b297-5343c600d76c",
   "metadata": {},
   "source": [
    ">It calculates the probability of an occurence based on the training / prior data. It is based on Bayes theorem. For more details visit https://scikit-learn.org/stable/modules/generated/sklearn.naive_bayes.MultinomialNB.html"
   ]
  },
  {
   "cell_type": "code",
   "execution_count": 72,
   "id": "024c5612-4daf-4650-80db-19e81a9b1ad6",
   "metadata": {},
   "outputs": [
    {
     "data": {
      "text/plain": [
       "0.7737"
      ]
     },
     "execution_count": 72,
     "metadata": {},
     "output_type": "execute_result"
    }
   ],
   "source": [
    "# Multinominal Niave Bayes\n",
    "clf_multiNB_pipe = Pipeline([(\"vect\", CountVectorizer()), (\"tfidf\", TfidfTransformer()), (\"clf_nominalNB\", MultinomialNB())])\n",
    "clf_multiNB_pipe.fit(X_train, X_train_targetSentiment)\n",
    "\n",
    "predictedMultiNB = clf_multiNB_pipe.predict(X_test)\n",
    "np.mean(predictedMultiNB == X_test_targetSentiment)"
   ]
  },
  {
   "cell_type": "markdown",
   "id": "a9f97067-1fa2-4d4f-9395-7629e42893b1",
   "metadata": {},
   "source": [
    ">Classification Report and Accuracy Score"
   ]
  },
  {
   "cell_type": "code",
   "execution_count": 73,
   "id": "3a921b60-78f7-4238-9e85-1e7aa5e04c0c",
   "metadata": {},
   "outputs": [
    {
     "name": "stdout",
     "output_type": "stream",
     "text": [
      "Classification Report\n",
      "              precision    recall  f1-score   support\n",
      "\n",
      "    Negative       0.92      0.02      0.04      2978\n",
      "     Neutral       0.00      0.00      0.00      1612\n",
      "    Positive       0.77      1.00      0.87     15410\n",
      "\n",
      "    accuracy                           0.77     20000\n",
      "   macro avg       0.56      0.34      0.31     20000\n",
      "weighted avg       0.73      0.77      0.68     20000\n",
      "\n",
      "Accuracy: 0.7737\n"
     ]
    }
   ],
   "source": [
    "# classification_report and accuracy_score\n",
    "print(\"Classification Report\")\n",
    "print(f\"{classification_report(X_test_targetSentiment, predictedMultiNB)}\")\n",
    "print(f\"Accuracy: {accuracy_score(X_test_targetSentiment, predictedMultiNB)}\")"
   ]
  },
  {
   "cell_type": "markdown",
   "id": "e6d9f545-df08-4bc1-b8d4-3457edc3d028",
   "metadata": {},
   "source": [
    ">Confusion Matrix (Rows | Columns : Negative, Neutral, Positive)"
   ]
  },
  {
   "cell_type": "code",
   "execution_count": 74,
   "id": "08af7a60-42f4-4464-b423-0eb9ae765e22",
   "metadata": {},
   "outputs": [
    {
     "data": {
      "text/plain": [
       "array([[   68,     0,  2910],\n",
       "       [    2,     0,  1610],\n",
       "       [    4,     0, 15406]], dtype=int64)"
      ]
     },
     "execution_count": 74,
     "metadata": {},
     "output_type": "execute_result"
    }
   ],
   "source": [
    "conf_arr_mnb = metrics.confusion_matrix(X_test_targetSentiment, predictedMultiNB)\n",
    "conf_arr_mnb"
   ]
  },
  {
   "cell_type": "markdown",
   "id": "3845c60a-a273-43c0-aa4a-7c8dacc1a39a",
   "metadata": {},
   "source": [
    "> Calculating metrics for algorithm as a whole <br> 1 - Precision <br> 2 - Recall <br> 3 - F1-Score "
   ]
  },
  {
   "cell_type": "code",
   "execution_count": 75,
   "id": "1782b887-3b0f-4641-bd91-37dbfa0b228f",
   "metadata": {},
   "outputs": [
    {
     "name": "stdout",
     "output_type": "stream",
     "text": [
      "Precision of the Algorithm :  0.999740428293316\n",
      "Recall  of the   Algorithm :  0.8411225158331513\n",
      "F-Score  of the  Algorithm :  0.9135978177074068\n"
     ]
    }
   ],
   "source": [
    "total_precision = calculate_precision(conf_arr_mnb)\n",
    "total_recall = calculate_recall(conf_arr_mnb)\n",
    "total_f_score = calculate_f_score(total_precision, total_recall)\n",
    "\n",
    "print(\"Precision of the Algorithm : \", total_precision)\n",
    "print(\"Recall  of the   Algorithm : \", total_recall)\n",
    "print(\"F-Score  of the  Algorithm : \", total_f_score)"
   ]
  },
  {
   "cell_type": "markdown",
   "id": "2779a477-fcee-4153-954f-f18a006958b1",
   "metadata": {},
   "source": [
    "## Logistic Regression Classifier"
   ]
  },
  {
   "cell_type": "markdown",
   "id": "6d86ce24-d0c6-4a55-be9f-28afd9cdcf62",
   "metadata": {},
   "source": [
    ">It computes the probability of an event occurrence. It classify the text according its probability. for more details visit https://www.datacamp.com/community/tutorials/understanding-logistic-regression-python"
   ]
  },
  {
   "cell_type": "code",
   "execution_count": 76,
   "id": "ed9e743d-ed89-4a6b-a62d-d11b1b1bde88",
   "metadata": {},
   "outputs": [
    {
     "data": {
      "text/plain": [
       "0.8601"
      ]
     },
     "execution_count": 76,
     "metadata": {},
     "output_type": "execute_result"
    }
   ],
   "source": [
    "# Logistic Regression Classifier\n",
    "clf_logReg_pipe = Pipeline([(\"vect\", CountVectorizer()), (\"tfidf\", TfidfTransformer()), (\"clf_logReg\", LogisticRegression())])\n",
    "clf_logReg_pipe.fit(X_train, X_train_targetSentiment)\n",
    "\n",
    "predictedLogReg = clf_logReg_pipe.predict(X_test)\n",
    "np.mean(predictedLogReg == X_test_targetSentiment)"
   ]
  },
  {
   "cell_type": "markdown",
   "id": "7bfe4593-ef68-4a23-84f3-7a4f17ffa92b",
   "metadata": {},
   "source": [
    ">Classification Report and Accuracy Score"
   ]
  },
  {
   "cell_type": "code",
   "execution_count": 77,
   "id": "4a085aa4-9435-40fa-b98c-f310683ff0a9",
   "metadata": {},
   "outputs": [
    {
     "name": "stdout",
     "output_type": "stream",
     "text": [
      "Classification Report\n",
      "              precision    recall  f1-score   support\n",
      "\n",
      "    Negative       0.76      0.65      0.70      2978\n",
      "     Neutral       0.51      0.18      0.27      1612\n",
      "    Positive       0.89      0.97      0.93     15410\n",
      "\n",
      "    accuracy                           0.86     20000\n",
      "   macro avg       0.72      0.60      0.63     20000\n",
      "weighted avg       0.84      0.86      0.84     20000\n",
      "\n",
      "Accuracy: 0.8601\n"
     ]
    }
   ],
   "source": [
    "# classification_report and accuracy_score\n",
    "print(\"Classification Report\")\n",
    "print(f\"{classification_report(X_test_targetSentiment, predictedLogReg)}\")\n",
    "print(f\"Accuracy: {accuracy_score(X_test_targetSentiment, predictedLogReg)}\")"
   ]
  },
  {
   "cell_type": "markdown",
   "id": "3f2778ae-e18d-4075-b3c3-de03d1a5367c",
   "metadata": {},
   "source": [
    ">Confusion Matrix (Rows | Columns : Negative, Neutral, Positive)"
   ]
  },
  {
   "cell_type": "code",
   "execution_count": 78,
   "id": "0b1021a2-ac9b-41dc-bb89-1afd2d94da1f",
   "metadata": {},
   "outputs": [
    {
     "data": {
      "text/plain": [
       "array([[ 1929,   132,   917],\n",
       "       [  342,   291,   979],\n",
       "       [  281,   147, 14982]], dtype=int64)"
      ]
     },
     "execution_count": 78,
     "metadata": {},
     "output_type": "execute_result"
    }
   ],
   "source": [
    "conf_arr_lrg = metrics.confusion_matrix(X_test_targetSentiment, predictedLogReg)\n",
    "conf_arr_lrg"
   ]
  },
  {
   "cell_type": "markdown",
   "id": "2a36efe1-0492-408f-b384-fbaa9ed5cc3b",
   "metadata": {},
   "source": [
    "> Calculating metrics for algorithm as a whole <br> 1 - Precision <br> 2 - Recall <br> 3 - F1-Score "
   ]
  },
  {
   "cell_type": "code",
   "execution_count": 79,
   "id": "10506bb9-84e4-4f28-95c5-c2ef111b3757",
   "metadata": {},
   "outputs": [
    {
     "name": "stdout",
     "output_type": "stream",
     "text": [
      "Precision of the Algorithm :  0.9815894647186005\n",
      "Recall  of the   Algorithm :  0.9423234165670797\n",
      "F-Score  of the  Algorithm :  0.9615557409665618\n"
     ]
    }
   ],
   "source": [
    "total_precision = calculate_precision(conf_arr_lrg)\n",
    "total_recall = calculate_recall(conf_arr_lrg)\n",
    "total_f_score = calculate_f_score(total_precision, total_recall)\n",
    "\n",
    "print(\"Precision of the Algorithm : \", total_precision)\n",
    "print(\"Recall  of the   Algorithm : \", total_recall)\n",
    "print(\"F-Score  of the  Algorithm : \", total_f_score)"
   ]
  },
  {
   "cell_type": "markdown",
   "id": "b1ee7c3c-b929-4b52-82bb-74b393fbc7fb",
   "metadata": {},
   "source": [
    "## Support Vector Machine Classifier"
   ]
  },
  {
   "cell_type": "markdown",
   "id": "bdaff67e-3afc-4d71-b3c3-4660c503ecd6",
   "metadata": {},
   "source": [
    ">The classifier separates data points using a hyperplane with the largest amount of margin. SVM finds an optimal hyperplane which helps in classifying new data points. For more details, visit https://www.datacamp.com/community/tutorials/svm-classification-scikit-learn-python"
   ]
  },
  {
   "cell_type": "code",
   "execution_count": 80,
   "id": "455232e1-a5fe-4285-9afa-8601cce1a501",
   "metadata": {},
   "outputs": [
    {
     "data": {
      "text/plain": [
       "0.86295"
      ]
     },
     "execution_count": 80,
     "metadata": {},
     "output_type": "execute_result"
    }
   ],
   "source": [
    "# Support Vector Machine Classifier\n",
    "clf_linearSVC_pipe = Pipeline([(\"vect\", CountVectorizer()), (\"tfidf\", TfidfTransformer()), (\"clf_linearSVC\", LinearSVC())])\n",
    "clf_linearSVC_pipe.fit(X_train, X_train_targetSentiment)\n",
    "\n",
    "predictedLinearSVC = clf_linearSVC_pipe.predict(X_test)\n",
    "np.mean(predictedLinearSVC == X_test_targetSentiment)"
   ]
  },
  {
   "cell_type": "markdown",
   "id": "e258c721-66f8-4f41-8535-d87f44b854ae",
   "metadata": {},
   "source": [
    ">Classification Report and Accuracy Score"
   ]
  },
  {
   "cell_type": "code",
   "execution_count": 81,
   "id": "99dde241-d8d3-415c-96de-65424284a1dd",
   "metadata": {},
   "outputs": [
    {
     "name": "stdout",
     "output_type": "stream",
     "text": [
      "Classification Report\n",
      "              precision    recall  f1-score   support\n",
      "\n",
      "    Negative       0.73      0.69      0.71      2978\n",
      "     Neutral       0.50      0.22      0.30      1612\n",
      "    Positive       0.90      0.96      0.93     15410\n",
      "\n",
      "    accuracy                           0.86     20000\n",
      "   macro avg       0.71      0.62      0.65     20000\n",
      "weighted avg       0.84      0.86      0.85     20000\n",
      "\n",
      "Accuracy: 0.86295\n"
     ]
    }
   ],
   "source": [
    "# classification_report and accuracy_score\n",
    "print(\"Classification Report\")\n",
    "print(f\"{classification_report(X_test_targetSentiment, predictedLinearSVC)}\")\n",
    "print(f\"Accuracy: {accuracy_score(X_test_targetSentiment, predictedLinearSVC)}\")"
   ]
  },
  {
   "cell_type": "markdown",
   "id": "be5eca01-575f-4d4c-a68b-67096aa5a52a",
   "metadata": {},
   "source": [
    ">Confusion Matrix (Rows | Columns : Negative, Neutral, Positive)"
   ]
  },
  {
   "cell_type": "code",
   "execution_count": 82,
   "id": "5e0081fd-5c04-4cbe-aab9-27dfb0661baa",
   "metadata": {},
   "outputs": [
    {
     "data": {
      "text/plain": [
       "array([[ 2051,   162,   765],\n",
       "       [  372,   349,   891],\n",
       "       [  370,   181, 14859]], dtype=int64)"
      ]
     },
     "execution_count": 82,
     "metadata": {},
     "output_type": "execute_result"
    }
   ],
   "source": [
    "conf_arr_svm = metrics.confusion_matrix(X_test_targetSentiment, predictedLinearSVC)\n",
    "conf_arr_svm"
   ]
  },
  {
   "cell_type": "markdown",
   "id": "32438d93-bcc0-4869-aeb2-b9486bc4a43e",
   "metadata": {},
   "source": [
    "> Calculating metrics for algorithm as a whole <br> 1 - Precision <br> 2 - Recall <br> 3 - F1-Score "
   ]
  },
  {
   "cell_type": "code",
   "execution_count": 83,
   "id": "6600cd79-0893-4f65-834e-ad1de3a3520e",
   "metadata": {},
   "outputs": [
    {
     "name": "stdout",
     "output_type": "stream",
     "text": [
      "Precision of the Algorithm :  0.9757042484733075\n",
      "Recall  of the   Algorithm :  0.951036866359447\n",
      "F-Score  of the  Algorithm :  0.9632126535507082\n"
     ]
    }
   ],
   "source": [
    "total_precision = calculate_precision(conf_arr_svm)\n",
    "total_recall = calculate_recall(conf_arr_svm)\n",
    "total_f_score = calculate_f_score(total_precision, total_recall)\n",
    "\n",
    "print(\"Precision of the Algorithm : \", total_precision)\n",
    "print(\"Recall  of the   Algorithm : \", total_recall)\n",
    "print(\"F-Score  of the  Algorithm : \", total_f_score)"
   ]
  },
  {
   "cell_type": "markdown",
   "id": "f736cc3f-eaf3-4e8f-83a2-895bcba7a877",
   "metadata": {},
   "source": [
    "## Decision Tree Classifier"
   ]
  },
  {
   "cell_type": "markdown",
   "id": "6fec2c0c-310c-42f1-932f-cb2d17b6b3d2",
   "metadata": {},
   "source": [
    ">A decision tree is a flowchart-like tree structure where an internal node represents feature, the branch represents a decision rule, and each leaf node represents the outcome. For more details visit https://www.datacamp.com/community/tutorials/decision-tree-classification-python"
   ]
  },
  {
   "cell_type": "code",
   "execution_count": 84,
   "id": "b3e25bfc-d6f2-458e-ab46-cd45775c0885",
   "metadata": {},
   "outputs": [
    {
     "data": {
      "text/plain": [
       "0.7795"
      ]
     },
     "execution_count": 84,
     "metadata": {},
     "output_type": "execute_result"
    }
   ],
   "source": [
    "# Decision Tree Classifier\n",
    "clf_decisionTree_pipe = Pipeline([(\"vect\", CountVectorizer()), (\"tfidf\", TfidfTransformer()), \n",
    "                                  (\"clf_decisionTree\", DecisionTreeClassifier())])\n",
    "clf_decisionTree_pipe.fit(X_train, X_train_targetSentiment)\n",
    "\n",
    "predictedDecisionTree = clf_decisionTree_pipe.predict(X_test)\n",
    "np.mean(predictedDecisionTree == X_test_targetSentiment)"
   ]
  },
  {
   "cell_type": "markdown",
   "id": "7bdd3c64-2a23-4091-aaab-7287e6ef6d6e",
   "metadata": {},
   "source": [
    ">Classification Report and Accuracy Score"
   ]
  },
  {
   "cell_type": "code",
   "execution_count": 85,
   "id": "efba38f3-b00f-4a8c-848f-080dc351becc",
   "metadata": {},
   "outputs": [
    {
     "name": "stdout",
     "output_type": "stream",
     "text": [
      "Classification Report\n",
      "              precision    recall  f1-score   support\n",
      "\n",
      "    Negative       0.51      0.50      0.50      2978\n",
      "     Neutral       0.34      0.30      0.32      1612\n",
      "    Positive       0.87      0.88      0.88     15410\n",
      "\n",
      "    accuracy                           0.78     20000\n",
      "   macro avg       0.57      0.56      0.57     20000\n",
      "weighted avg       0.77      0.78      0.78     20000\n",
      "\n",
      "Accuracy: 0.7795\n"
     ]
    }
   ],
   "source": [
    "# classification_report and accuracy_score\n",
    "print(\"Classification Report\")\n",
    "print(f\"{classification_report(X_test_targetSentiment, predictedDecisionTree)}\")\n",
    "print(f\"Accuracy: {accuracy_score(X_test_targetSentiment, predictedDecisionTree)}\")"
   ]
  },
  {
   "cell_type": "markdown",
   "id": "8d5e614d-9d5a-454f-af53-c0b4a6fdce88",
   "metadata": {},
   "source": [
    ">Confusion Matrix (Rows | Columns : Negative, Neutral, Positive)"
   ]
  },
  {
   "cell_type": "code",
   "execution_count": 86,
   "id": "40afaffc-5533-400b-8c67-3dbd5ffebe58",
   "metadata": {},
   "outputs": [
    {
     "data": {
      "text/plain": [
       "array([[ 1481,   245,  1252],\n",
       "       [  331,   487,   794],\n",
       "       [ 1080,   708, 13622]], dtype=int64)"
      ]
     },
     "execution_count": 86,
     "metadata": {},
     "output_type": "execute_result"
    }
   ],
   "source": [
    "conf_arr_dct = metrics.confusion_matrix(X_test_targetSentiment, predictedDecisionTree)\n",
    "conf_arr_dct"
   ]
  },
  {
   "cell_type": "markdown",
   "id": "8ce3831e-167f-45e1-9c3e-cac139ce89a7",
   "metadata": {},
   "source": [
    "> Calculating metrics for algorithm as a whole <br> 1 - Precision <br> 2 - Recall <br> 3 - F1-Score "
   ]
  },
  {
   "cell_type": "code",
   "execution_count": 87,
   "id": "e69a50aa-6b2a-4656-aa2b-fe93a7d91c58",
   "metadata": {},
   "outputs": [
    {
     "name": "stdout",
     "output_type": "stream",
     "text": [
      "Precision of the Algorithm :  0.9265406067201741\n",
      "Recall  of the   Algorithm :  0.9158262740352292\n",
      "F-Score  of the  Algorithm :  0.9211522856370029\n"
     ]
    }
   ],
   "source": [
    "total_precision = calculate_precision(conf_arr_dct)\n",
    "total_recall = calculate_recall(conf_arr_dct)\n",
    "total_f_score = calculate_f_score(total_precision, total_recall)\n",
    "\n",
    "print(\"Precision of the Algorithm : \", total_precision)\n",
    "print(\"Recall  of the   Algorithm : \", total_recall)\n",
    "print(\"F-Score  of the  Algorithm : \", total_f_score)"
   ]
  },
  {
   "cell_type": "markdown",
   "id": "9b19c980-5dff-461f-b3b5-8f43634b6def",
   "metadata": {},
   "source": [
    "## Random Forest Classifier"
   ]
  },
  {
   "cell_type": "markdown",
   "id": "c815dca6-1651-4ca0-9242-07377b68a638",
   "metadata": {},
   "source": [
    ">Random forests creates decision trees on randomly selected data samples, gets prediction from each tree and selects the best solution by means of voting. For more details visit https://www.datacamp.com/community/tutorials/random-forests-classifier-python"
   ]
  },
  {
   "cell_type": "code",
   "execution_count": 88,
   "id": "4a27bd1f-25c8-4d43-af22-bf21d97c59ba",
   "metadata": {},
   "outputs": [
    {
     "data": {
      "text/plain": [
       "0.8183"
      ]
     },
     "execution_count": 88,
     "metadata": {},
     "output_type": "execute_result"
    }
   ],
   "source": [
    "# Random Forest Classifier\n",
    "clf_randomForest_pipe = Pipeline([(\"vect\", CountVectorizer()), (\"tfidf\", TfidfTransformer()), (\"clf_randomForest\", RandomForestClassifier())])\n",
    "clf_randomForest_pipe.fit(X_train, X_train_targetSentiment)\n",
    "\n",
    "predictedRandomForest = clf_randomForest_pipe.predict(X_test)\n",
    "np.mean(predictedRandomForest == X_test_targetSentiment)"
   ]
  },
  {
   "cell_type": "markdown",
   "id": "09b2c8e7-375a-4d54-a404-6ba08c278c74",
   "metadata": {},
   "source": [
    ">Classification Report and Accuracy Score"
   ]
  },
  {
   "cell_type": "code",
   "execution_count": 89,
   "id": "16c7e489-d273-4be5-92cf-c1a3c7836166",
   "metadata": {},
   "outputs": [
    {
     "name": "stdout",
     "output_type": "stream",
     "text": [
      "Classification Report\n",
      "              precision    recall  f1-score   support\n",
      "\n",
      "    Negative       0.98      0.23      0.38      2978\n",
      "     Neutral       1.00      0.16      0.28      1612\n",
      "    Positive       0.81      1.00      0.89     15410\n",
      "\n",
      "    accuracy                           0.82     20000\n",
      "   macro avg       0.93      0.47      0.52     20000\n",
      "weighted avg       0.85      0.82      0.77     20000\n",
      "\n",
      "Accuracy: 0.8183\n"
     ]
    }
   ],
   "source": [
    "# classification_report and accuracy_score\n",
    "print(\"Classification Report\")\n",
    "print(f\"{classification_report(X_test_targetSentiment, predictedRandomForest)}\")\n",
    "print(f\"Accuracy: {accuracy_score(X_test_targetSentiment, predictedRandomForest)}\")"
   ]
  },
  {
   "cell_type": "markdown",
   "id": "4e459cbf-6df3-4660-b736-3e59de2cee00",
   "metadata": {},
   "source": [
    ">Confusion Matrix (Rows | Columns : Negative, Neutral, Positive)"
   ]
  },
  {
   "cell_type": "code",
   "execution_count": 90,
   "id": "0900c522-aafd-422b-a8f3-1ccef09a1cad",
   "metadata": {},
   "outputs": [
    {
     "data": {
      "text/plain": [
       "array([[  699,     0,  2279],\n",
       "       [    9,   262,  1341],\n",
       "       [    5,     0, 15405]], dtype=int64)"
      ]
     },
     "execution_count": 90,
     "metadata": {},
     "output_type": "execute_result"
    }
   ],
   "source": [
    "conf_arr_rfc = metrics.confusion_matrix(X_test_targetSentiment, predictedRandomForest)\n",
    "conf_arr_rfc"
   ]
  },
  {
   "cell_type": "markdown",
   "id": "734775c0-f63f-477e-a15d-7c25ffd8a7cc",
   "metadata": {},
   "source": [
    "> Calculating metrics for algorithm as a whole <br> 1 - Precision <br> 2 - Recall <br> 3 - F1-Score "
   ]
  },
  {
   "cell_type": "code",
   "execution_count": 91,
   "id": "72d9cd91-8bb6-4717-8147-75c8e071485e",
   "metadata": {},
   "outputs": [
    {
     "name": "stdout",
     "output_type": "stream",
     "text": [
      "Precision of the Algorithm :  0.999675535366645\n",
      "Recall  of the   Algorithm :  0.8711264419814522\n",
      "F-Score  of the  Algorithm :  0.930984468483713\n"
     ]
    }
   ],
   "source": [
    "total_precision = calculate_precision(conf_arr_rfc)\n",
    "total_recall = calculate_recall(conf_arr_rfc)\n",
    "total_f_score = calculate_f_score(total_precision, total_recall)\n",
    "\n",
    "print(\"Precision of the Algorithm : \", total_precision)\n",
    "print(\"Recall  of the   Algorithm : \", total_recall)\n",
    "print(\"F-Score  of the  Algorithm : \", total_f_score)"
   ]
  },
  {
   "cell_type": "markdown",
   "id": "10e92e3c-1fad-4f7e-bf89-4131765740be",
   "metadata": {},
   "source": [
    "## Grid Search CV"
   ]
  },
  {
   "cell_type": "code",
   "execution_count": 92,
   "id": "04d20228-2330-4cf1-8d65-92eeb3c0c4b8",
   "metadata": {},
   "outputs": [
    {
     "data": {
      "text/plain": [
       "array(['Positive', 'Neutral', 'Negative', 'Negative', 'Positive'],\n",
       "      dtype=object)"
      ]
     },
     "execution_count": 92,
     "metadata": {},
     "output_type": "execute_result"
    }
   ],
   "source": [
    "# Grid Search CV\n",
    "parameters = {'vect__ngram_range': [(1, 1), (1, 2)],    \n",
    "             'tfidf__use_idf': (True, False), \n",
    "             } \n",
    "gs_clf_LinearSVC_pipe = GridSearchCV(clf_linearSVC_pipe, parameters, n_jobs=-1)\n",
    "gs_clf_LinearSVC_pipe = gs_clf_LinearSVC_pipe.fit(X_train, X_train_targetSentiment)\n",
    "new_text = [\"The headphones are really good, I will buy some more products online from amazon.\", \n",
    "            \"The phone is ok, but it works fine.\", \n",
    "            \"The handfree is not good, does not work very well.\", \"The iphone is not good\", \"This TV is so good and is on cheap price.\"] \n",
    "\n",
    "gs_clf_LinearSVC_pipe.predict(new_text)"
   ]
  },
  {
   "cell_type": "code",
   "execution_count": 93,
   "id": "ce205125-725d-43fa-890c-a650be546200",
   "metadata": {},
   "outputs": [
    {
     "data": {
      "text/plain": [
       "0.8933"
      ]
     },
     "execution_count": 93,
     "metadata": {},
     "output_type": "execute_result"
    }
   ],
   "source": [
    "predictedGS_clf_LinearSVC_pipe = gs_clf_LinearSVC_pipe.predict(X_test)\n",
    "np.mean(predictedGS_clf_LinearSVC_pipe == X_test_targetSentiment)"
   ]
  },
  {
   "cell_type": "code",
   "execution_count": 94,
   "id": "685c8a59-ac22-4080-855f-4488a1f7153c",
   "metadata": {},
   "outputs": [
    {
     "name": "stdout",
     "output_type": "stream",
     "text": [
      "0.8882875\n",
      "Pipeline(steps=[('vect', CountVectorizer(ngram_range=(1, 2))),\n",
      "                ('tfidf', TfidfTransformer()), ('clf_linearSVC', LinearSVC())])\n",
      "{'tfidf__use_idf': True, 'vect__ngram_range': (1, 2)}\n"
     ]
    }
   ],
   "source": [
    "for performance_analysis in (gs_clf_LinearSVC_pipe.best_score_, \n",
    "                             gs_clf_LinearSVC_pipe.best_estimator_, \n",
    "                             gs_clf_LinearSVC_pipe.best_params_):\n",
    "        print(performance_analysis)"
   ]
  },
  {
   "cell_type": "markdown",
   "id": "2cead4ad-b0ef-4b38-bc72-714960e27b19",
   "metadata": {},
   "source": [
    ">Classification Report and Accuracy Score"
   ]
  },
  {
   "cell_type": "code",
   "execution_count": 95,
   "id": "00c18893-0354-4d23-a5fa-968c9c533648",
   "metadata": {},
   "outputs": [
    {
     "name": "stdout",
     "output_type": "stream",
     "text": [
      "Classification Report\n",
      "              precision    recall  f1-score   support\n",
      "\n",
      "    Negative       0.80      0.76      0.78      2978\n",
      "     Neutral       0.67      0.34      0.45      1612\n",
      "    Positive       0.92      0.98      0.95     15410\n",
      "\n",
      "    accuracy                           0.89     20000\n",
      "   macro avg       0.80      0.69      0.73     20000\n",
      "weighted avg       0.88      0.89      0.88     20000\n",
      "\n",
      "Accuracy: 0.8933\n"
     ]
    }
   ],
   "source": [
    "# classification_report and accuracy_score\n",
    "print(\"Classification Report\")\n",
    "print(f\"{classification_report(X_test_targetSentiment, predictedGS_clf_LinearSVC_pipe)}\")\n",
    "print(f\"Accuracy: {accuracy_score(X_test_targetSentiment, predictedGS_clf_LinearSVC_pipe)}\")"
   ]
  },
  {
   "cell_type": "markdown",
   "id": "699b3b78-04a1-47ba-959a-70716eb29b5c",
   "metadata": {},
   "source": [
    ">Confusion Matrix (Rows | Columns : Negative, Neutral, Positive)"
   ]
  },
  {
   "cell_type": "code",
   "execution_count": 96,
   "id": "e233a473-3728-48d7-935e-a114e63d207a",
   "metadata": {},
   "outputs": [
    {
     "data": {
      "text/plain": [
       "array([[ 2253,   141,   584],\n",
       "       [  351,   547,   714],\n",
       "       [  216,   128, 15066]], dtype=int64)"
      ]
     },
     "execution_count": 96,
     "metadata": {},
     "output_type": "execute_result"
    }
   ],
   "source": [
    "conf_arr_gs = metrics.confusion_matrix(X_test_targetSentiment, predictedGS_clf_LinearSVC_pipe)\n",
    "conf_arr_gs"
   ]
  },
  {
   "cell_type": "markdown",
   "id": "ff16209a-bb45-4e4d-8f9c-e8e19346f7c6",
   "metadata": {},
   "source": [
    "> Calculating metrics for algorithm as a whole <br> 1 - Precision <br> 2 - Recall <br> 3 - F1-Score "
   ]
  },
  {
   "cell_type": "code",
   "execution_count": 97,
   "id": "534ebeac-0f9d-444e-8211-5bdd1a88fa8d",
   "metadata": {},
   "outputs": [
    {
     "name": "stdout",
     "output_type": "stream",
     "text": [
      "Precision of the Algorithm :  0.9858657243816255\n",
      "Recall  of the   Algorithm :  0.9626837060702875\n",
      "F-Score  of the  Algorithm :  0.9741368162420794\n"
     ]
    }
   ],
   "source": [
    "total_precision = calculate_precision(conf_arr_gs)\n",
    "total_recall = calculate_recall(conf_arr_gs)\n",
    "total_f_score = calculate_f_score(total_precision, total_recall)\n",
    "\n",
    "print(\"Precision of the Algorithm : \", total_precision)\n",
    "print(\"Recall  of the   Algorithm : \", total_recall)\n",
    "print(\"F-Score  of the  Algorithm : \", total_f_score)"
   ]
  },
  {
   "cell_type": "code",
   "execution_count": 98,
   "id": "a020d255-4ffc-465b-b543-85edb3a8fc97",
   "metadata": {},
   "outputs": [
    {
     "name": "stdout",
     "output_type": "stream",
     "text": [
      "<class 'pandas.core.frame.DataFrame'>\n",
      "RangeIndex: 100000 entries, 0 to 99999\n",
      "Data columns (total 6 columns):\n",
      " #   Column     Non-Null Count   Dtype \n",
      "---  ------     --------------   ----- \n",
      " 0   Id         100000 non-null  int64 \n",
      " 1   ProductId  100000 non-null  object\n",
      " 2   UserId     100000 non-null  object\n",
      " 3   Score      100000 non-null  int64 \n",
      " 4   Summary    99998 non-null   object\n",
      " 5   Text       100000 non-null  object\n",
      "dtypes: int64(2), object(4)\n",
      "memory usage: 4.6+ MB\n"
     ]
    }
   ],
   "source": [
    "dataset = data[:].copy()\n",
    "dataset.info()"
   ]
  },
  {
   "cell_type": "markdown",
   "id": "285f1176-47a0-4541-b103-cf0dca5a2942",
   "metadata": {},
   "source": [
    "## Getting the overview of the data once again"
   ]
  },
  {
   "cell_type": "code",
   "execution_count": 99,
   "id": "33c5801d-162b-4e8a-a789-377f7173c275",
   "metadata": {},
   "outputs": [
    {
     "data": {
      "image/png": "[encoded data removed]",
      "text/plain": [
       "<Figure size 432x288 with 1 Axes>"
      ]
     },
     "metadata": {
      "needs_background": "light"
     },
     "output_type": "display_data"
    }
   ],
   "source": [
    "sb.boxplot(y=\"Score\", data=dataset, whis=5, color=\"#6f00ff\");"
   ]
  },
  {
   "cell_type": "code",
   "execution_count": null,
   "id": "febe3482-e2ed-4c82-bbdd-4cb30a844336",
   "metadata": {},
   "outputs": [],
   "source": []
  },
  {
   "cell_type": "code",
   "execution_count": null,
   "id": "88b018c6-3552-4367-a4f5-4ea4338c6a92",
   "metadata": {},
   "outputs": [],
   "source": []
  }
 ],
 "metadata": {
  "kernelspec": {
   "display_name": "Python 3",
   "language": "python",
   "name": "python3"
  },
  "language_info": {
   "codemirror_mode": {
    "name": "ipython",
    "version": 3
   },
   "file_extension": ".py",
   "mimetype": "text/x-python",
   "name": "python",
   "nbconvert_exporter": "python",
   "pygments_lexer": "ipython3",
   "version": "3.9.5"
  }
 },
 "nbformat": 4,
 "nbformat_minor": 5
}
